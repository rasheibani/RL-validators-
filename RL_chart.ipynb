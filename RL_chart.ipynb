{
 "nbformat": 4,
 "nbformat_minor": 0,
 "metadata": {
  "colab": {
   "provenance": []
  },
  "kernelspec": {
   "name": "python3",
   "display_name": "Python 3 (ipykernel)",
   "language": "python"
  },
  "language_info": {
   "name": "python"
  }
 },
 "cells": [
  {
   "cell_type": "code",
   "metadata": {
    "id": "qHugbdCFfZVm",
    "colab": {
     "base_uri": "https://localhost:8080/"
    },
    "outputId": "4977da89-5449-461e-e3e2-a20d869f5bfd"
   },
   "source": [
    "from html.parser import incomplete\n",
    "!pip install colorblind-friendly\n"
   ],
   "outputs": [],
   "execution_count": null
  },
  {
   "metadata": {},
   "cell_type": "code",
   "outputs": [],
   "execution_count": null,
   "source": [
    "import pandas as pd\n",
    "import matplotlib.pyplot as plt\n",
    "\n",
    "# Load the data\n",
    "data = pd.read_csv('data/curriculum_evaluation_results.csv')\n",
    "\n",
    "# List of possible groupings\n",
    "groupings = [\n",
    "    'complexity',\n",
    "    'grammar',\n",
    "    'reward_type',\n",
    "    'evaluated_env',\n",
    "    'instruction_type',\n",
    "    ['complexity', 'grammar'],\n",
    "    ['complexity'],\n",
    "    ['complexity', 'evaluated_env'],\n",
    "    ['grammar', 'reward_type'],\n",
    "    ['grammar', 'evaluated_env'],\n",
    "    ['reward_type', 'evaluated_env'],\n",
    "    ['complexity', 'grammar', 'reward_type'],\n",
    "    ['complexity', 'grammar', 'evaluated_env'],\n",
    "    ['complexity', 'reward_type', 'evaluated_env'],\n",
    "    ['grammar', 'reward_type', 'evaluated_env'],\n",
    "]\n",
    "\n",
    "# Iterate through different groupings and plot\n",
    "for group in groupings:\n",
    "    grouped = data.groupby(group)['average_success_rate'].mean()\n",
    "\n",
    "    plt.figure(figsize=(12, 6))\n",
    "    grouped.plot(kind='bar', color=['blue'])\n",
    "    plt.ylabel('Average Success Rate')\n",
    "    plt.title(f'Comparison of Trained Agents by {group} of Testing Environments')\n",
    "    plt.xticks(rotation=45)\n",
    "    plt.ylim(0, 1)\n",
    "    plt.legend(['Trained Agents'])\n",
    "    # save in data\\Figures folder\n",
    "    plt.savefig(f'data/Figures/{group}_comparison.jpg', dpi=300)\n",
    "    plt.show()"
   ]
  },
  {
   "metadata": {},
   "cell_type": "code",
   "outputs": [],
   "execution_count": null,
   "source": [
    "import pandas as pd\n",
    "import matplotlib.pyplot as plt\n",
    "\n",
    "# Load the data\n",
    "data = pd.read_csv('/content/curriculum_evaluation_results.csv')\n",
    "\n",
    "# Create the histogram\n",
    "plt.figure(figsize=(8, 6))\n",
    "plt.hist(data['complexity'], bins=data['complexity'].nunique(), edgecolor='black')\n",
    "plt.xlabel('Complexity Category')\n",
    "plt.ylabel('Number of Environments')\n",
    "plt.title('Distribution of Environments by Complexity')\n",
    "plt.xticks(rotation=45, ha='right')\n",
    "plt.show()"
   ]
  },
  {
   "metadata": {},
   "cell_type": "code",
   "outputs": [],
   "execution_count": null,
   "source": [
    "import pandas as pd\n",
    "\n",
    "# Load the data\n",
    "data = pd.read_csv('data/curriculum_evaluation_results.csv')\n",
    "\n",
    "# Calculate overall average success rates\n",
    "trained_avg_success = data['average_success_rate'].mean()\n",
    "random_avg_success = data['random_agent_average_success_rate'].mean()\n",
    "\n",
    "# Print the results\n",
    "print(f\"Overall Average Success Rate (Trained Agents): {trained_avg_success:.5f}\")\n",
    "print(f\"Overall Average Success Rate (Random Agents): {random_avg_success:.5f}\")\n",
    "\n",
    "# Calculate and print the percentage improvement\n",
    "improvement = (trained_avg_success - random_avg_success) / random_avg_success * 100\n",
    "print(f\"Percentage Improvement of Trained Agents over Random Agents: {improvement:.2f}%\")"
   ]
  },
  {
   "metadata": {},
   "cell_type": "code",
   "outputs": [],
   "execution_count": null,
   "source": [
    "import matplotlib.pyplot as plt\n",
    "\n",
    "# Data\n",
    "agent_types = ['Trained Agents', 'Random Agents']\n",
    "success_rates = [0.45922, 0.00131]\n",
    "\n",
    "# Create the bar chart\n",
    "plt.figure(figsize=(8, 6))\n",
    "bars = plt.bar(agent_types, success_rates, color=['steelblue', 'salmon'],width=0.5)\n",
    "\n",
    "# Use logarithmic scale for the y-axis\n",
    "plt.yscale('log')\n",
    "\n",
    "# Add value labels on top of the bars\n",
    "for bar, rate in zip(bars, success_rates):\n",
    "    plt.text(\n",
    "        bar.get_x() + bar.get_width()/2,\n",
    "        rate,\n",
    "        f'{rate * 100:.2f}%',\n",
    "        ha='center',\n",
    "        va='bottom',\n",
    "        fontsize=12\n",
    "    )\n",
    "\n",
    "# Titles and labels\n",
    "plt.title('Overall Average Success Rate Comparison', fontsize=16)\n",
    "plt.ylabel('Success Rate (log scale)', fontsize=14)\n",
    "plt.xlabel('Agent Type', fontsize=14)\n",
    "plt.tight_layout()\n",
    "\n",
    "plt.savefig('success_rate_comparison.png', dpi=300)\n",
    "plt.show()\n"
   ]
  },
  {
   "metadata": {},
   "cell_type": "code",
   "outputs": [],
   "execution_count": null,
   "source": ""
  },
  {
   "metadata": {},
   "cell_type": "code",
   "outputs": [],
   "execution_count": null,
   "source": [
    "import matplotlib.pyplot as plt\n",
    "\n",
    "approach_types = ['sparse', 'step_cost']\n",
    "# calculate the average success rate for each approach\n",
    "success_rates = data.groupby('reward_type')['average_success_rate'].mean()\n",
    "\n",
    "# Create the log scale bar chart\n",
    "plt.figure(figsize=(8, 6))\n",
    "bars = plt.bar(approach_types, success_rates, color=['steelblue', 'salmon'],width=0.5)\n",
    "\n",
    "# Use logarithmic scale for the y-axis\n",
    "plt.yscale('log')\n",
    "\n",
    "# Add value labels on top of the bars\n",
    "for bar, rate in zip(bars, success_rates):\n",
    "    plt.text(\n",
    "        bar.get_x() + bar.get_width()/2,\n",
    "        rate,\n",
    "        f'{rate * 100:.2f}%',\n",
    "        ha='center',\n",
    "        va='bottom',\n",
    "        fontsize=12\n",
    "    )\n",
    "\n",
    "# Titles and labels\n",
    "plt.title('Average Success Rate by Reward Type', fontsize=16)\n",
    "plt.ylabel('Success Rate (log scale)', fontsize=14)\n",
    "plt.xlabel('Reward Type', fontsize=14)\n",
    "plt.tight_layout()\n",
    "plt.savefig('success_rate_by_reward_type.jpg', dpi=300)\n",
    "plt.show()\n",
    "\n",
    "\n"
   ]
  },
  {
   "metadata": {},
   "cell_type": "code",
   "outputs": [],
   "execution_count": null,
   "source": [
    "import matplotlib.pyplot as plt\n",
    "\n",
    "# draw the chart for the average success rate by envorinment type 'seen' and 'unseen'\n",
    "\n",
    "# calculate the average success rate for each approach\n",
    "success_rates = data.groupby('evaluated_env')['average_success_rate'].mean()\n",
    "\n",
    "# Create the log scale bar chart\n",
    "plt.figure(figsize=(8, 6))\n",
    "bars = plt.bar(['seen', 'unseen'], success_rates, color=['steelblue', 'salmon'],width=0.5)\n",
    "\n",
    "\n",
    "\n",
    "# Add value labels on top of the bars\n",
    "for bar, rate in zip(bars, success_rates):\n",
    "    plt.text(\n",
    "        bar.get_x() + bar.get_width()/2,\n",
    "        rate,\n",
    "        f'{rate * 100:.2f}%',\n",
    "        ha='center',\n",
    "        va='bottom',\n",
    "        fontsize=12\n",
    "    )\n",
    "\n",
    "# Titles and labels\n",
    "plt.title('Average Success Rate by Evaluated Environment', fontsize=16)\n",
    "plt.ylabel('Success Rate (log scale)', fontsize=14)\n",
    "plt.xlabel('Evaluated Environment', fontsize=14)\n",
    "plt.tight_layout()\n",
    "plt.savefig('success_rate_by_evaluated_env.jpg', dpi=300)\n",
    "plt.show()\n"
   ]
  },
  {
   "metadata": {
    "ExecuteTime": {
     "end_time": "2025-02-25T05:39:13.599840Z",
     "start_time": "2025-02-25T05:39:13.350119Z"
    }
   },
   "cell_type": "code",
   "source": [
    "import matplotlib.pyplot as plt\n",
    "import pandas as pd\n",
    "df = pd.read_csv('data/curriculum_evaluation_results.csv')\n",
    "# Creating subsets for complete and incomplete instructions for both trained and random agents\n",
    "complete_trained_success = df[df['instruction_type'] == 'complete']['average_success_rate']\n",
    "# filter again fir (for only step_cost reward type)\n",
    "complete_trained_success = df[(df['instruction_type'] == 'complete') & (df['reward_type'] == 'step_cost')]['average_success_rate']\n",
    "incomplete_trained_success = df[(df['instruction_type'] == 'incomplete') & (df['reward_type'] == 'step_cost')]['average_success_rate']\n",
    "\n",
    "# Plotting the violin plot\n",
    "plt.violinplot([complete_trained_success, incomplete_trained_success], showmeans=True)\n",
    "plt.xticks([1, 2], ['Complete Instructions', 'Incomplete Instructions'])\n",
    "plt.ylabel('Success Rate')\n",
    "# y log scale\n",
    "plt.yscale('log')\n",
    "plt.title('Success Rate Distribution: Complete Instructions and Stepwise Rewards')\n",
    "plt.grid(axis='y', linestyle='--')\n",
    "\n",
    "# Displaying the plot\n",
    "plt.savefig('success_rate_distribution.jpg', dpi=300)\n",
    "plt.show()\n"
   ],
   "outputs": [
    {
     "data": {
      "text/plain": [
       "<Figure size 640x480 with 1 Axes>"
      ],
      "image/png": "[encoded data removed]"
     },
     "metadata": {},
     "output_type": "display_data"
    }
   ],
   "execution_count": 22
  },
  {
   "metadata": {},
   "cell_type": "code",
   "outputs": [],
   "execution_count": null,
   "source": [
    "# draw violin plot for sparse reward type vs step_cost reward type\n",
    "import matplotlib.pyplot as plt\n",
    "import pandas as pd\n",
    "\n",
    "df = pd.read_csv('data/curriculum_evaluation_results.csv')\n",
    "# Creating subsets for complete and incomplete instructions for both trained and random agents\n",
    "sparse_trained_success = df[(df['reward_type'] == 'sparse') & (df['instruction_type'] == 'complete')]['average_success_rate']\n",
    "step_cost_trained_success = df[(df['reward_type'] == 'step_cost') & (df['instruction_type'] == 'complete')]['average_success_rate']\n",
    "\n",
    "# Plotting the violin plot\n",
    "plt.violinplot([sparse_trained_success, step_cost_trained_success], showmeans=True)\n",
    "plt.xticks([1, 2], ['Sparse Reward', 'Step Cost Reward'])\n",
    "plt.ylabel('Success Rate')\n",
    "plt.title('Success Rate Distribution: Complete Instructions and Different Reward Types')\n",
    "plt.grid(axis='y', linestyle='--')\n",
    "\n",
    "# Displaying the plot\n",
    "plt.savefig('success_rate_distribution_reward_type.jpg', dpi=300)\n",
    "plt.show()"
   ]
  }
 ]
}
