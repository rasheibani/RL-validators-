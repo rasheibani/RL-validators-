{
 "nbformat": 4,
 "nbformat_minor": 0,
 "metadata": {
  "colab": {
   "provenance": []
  },
  "kernelspec": {
   "name": "python3",
   "display_name": "Python 3 (ipykernel)",
   "language": "python"
  },
  "language_info": {
   "name": "python"
  }
 },
 "cells": [
  {
   "cell_type": "code",
   "metadata": {
    "id": "qHugbdCFfZVm",
    "colab": {
     "base_uri": "https://localhost:8080/"
    },
    "outputId": "4977da89-5449-461e-e3e2-a20d869f5bfd"
   },
   "source": [
    "!pip install colorblind-friendly\n"
   ],
   "outputs": [],
   "execution_count": null
  },
  {
   "cell_type": "code",
   "source": [
    "import pandas as pd\n",
    "import matplotlib.pyplot as plt\n",
    "\n",
    "# Load the data\n",
    "data = pd.read_csv('data/curriculum_evaluation_results.csv')\n",
    "\n",
    "# List of possible groupings\n",
    "groupings = [\n",
    "    'complexity',\n",
    "    'grammar',\n",
    "    'reward_type',\n",
    "    'evaluated_env',\n",
    "    'instruction_type',\n",
    "    ['complexity', 'grammar'],\n",
    "    ['complexity', 'reward_type'],\n",
    "    ['complexity', 'evaluated_env'],\n",
    "    ['grammar', 'reward_type'],\n",
    "    ['grammar', 'evaluated_env'],\n",
    "    ['reward_type', 'evaluated_env'],\n",
    "    ['complexity', 'grammar', 'reward_type'],\n",
    "    ['complexity', 'grammar', 'evaluated_env'],\n",
    "    ['complexity', 'reward_type', 'evaluated_env'],\n",
    "    ['grammar', 'reward_type', 'evaluated_env'],\n",
    "]\n",
    "\n",
    "# Iterate through different groupings and plot\n",
    "for group in groupings:\n",
    "    grouped = data.groupby(group)[['average_success_rate', 'random_agent_average_success_rate']].mean()\n",
    "\n",
    "    plt.figure(figsize=(12, 6))\n",
    "    grouped.plot(kind='bar', color=['blue', 'orange'])\n",
    "    plt.ylabel('Average Success Rate')\n",
    "    plt.title(f'Comparison of Trained vs Random Agents by {group}')\n",
    "    plt.xticks(rotation=45)\n",
    "    plt.ylim(0, 1)\n",
    "    plt.legend(['Trained Agents', 'Random Agents'])\n",
    "    plt.show()"
   ],
   "metadata": {
    "colab": {
     "base_uri": "https://localhost:8080/",
     "height": 1000
    },
    "id": "5eB17L72frmq",
    "outputId": "c6bea252-6cbc-458f-f8ff-79ffe759ac84"
   },
   "outputs": [],
   "execution_count": null
  },
  {
   "source": [
    "import pandas as pd\n",
    "import matplotlib.pyplot as plt\n",
    "\n",
    "# Load the data\n",
    "data = pd.read_csv('/content/curriculum_evaluation_results.csv')\n",
    "\n",
    "# Create the histogram\n",
    "plt.figure(figsize=(8, 6))\n",
    "plt.hist(data['complexity'], bins=data['complexity'].nunique(), edgecolor='black')\n",
    "plt.xlabel('Complexity Category')\n",
    "plt.ylabel('Number of Environments')\n",
    "plt.title('Distribution of Environments by Complexity')\n",
    "plt.xticks(rotation=45, ha='right')\n",
    "plt.show()"
   ],
   "cell_type": "code",
   "metadata": {
    "colab": {
     "base_uri": "https://localhost:8080/",
     "height": 550
    },
    "id": "n5pQHDtYx0sl",
    "outputId": "06125bdb-e31b-43c9-bea1-177f6d766f24"
   },
   "outputs": [],
   "execution_count": null
  },
  {
   "source": [
    "import pandas as pd\n",
    "\n",
    "# Load the data\n",
    "data = pd.read_csv('/content/curriculum_evaluation_results.csv')\n",
    "\n",
    "# Calculate overall average success rates\n",
    "trained_avg_success = data['average_success_rate'].mean()\n",
    "random_avg_success = data['random_agent_average_success_rate'].mean()\n",
    "\n",
    "# Print the results\n",
    "print(f\"Overall Average Success Rate (Trained Agents): {trained_avg_success:.5f}\")\n",
    "print(f\"Overall Average Success Rate (Random Agents): {random_avg_success:.5f}\")\n",
    "\n",
    "# Calculate and print the percentage improvement\n",
    "improvement = (trained_avg_success - random_avg_success) / random_avg_success * 100\n",
    "print(f\"Percentage Improvement of Trained Agents over Random Agents: {improvement:.2f}%\")"
   ],
   "cell_type": "code",
   "metadata": {
    "colab": {
     "base_uri": "https://localhost:8080/"
    },
    "id": "IXYbDh6fYpPN",
    "outputId": "d2a4ca05-67fe-4c4a-a9b1-79f6e9c301c6"
   },
   "outputs": [],
   "execution_count": null
  },
  {
   "source": [
    "import matplotlib.pyplot as plt\n",
    "\n",
    "# Data\n",
    "agent_types = ['Trained Agents', 'Random Agents']\n",
    "success_rates = [0.45922, 0.00131]\n",
    "\n",
    "# Create the bar chart\n",
    "plt.figure(figsize=(8, 6))\n",
    "bars = plt.bar(agent_types, success_rates, color=['steelblue', 'salmon'])\n",
    "\n",
    "# Use logarithmic scale for the y-axis\n",
    "plt.yscale('log')\n",
    "\n",
    "# Add value labels on top of the bars\n",
    "for bar, rate in zip(bars, success_rates):\n",
    "    plt.text(\n",
    "        bar.get_x() + bar.get_width()/2,\n",
    "        rate,\n",
    "        f'{rate * 100:.2f}%',\n",
    "        ha='center',\n",
    "        va='bottom',\n",
    "        fontsize=12\n",
    "    )\n",
    "\n",
    "# Titles and labels\n",
    "plt.title('Overall Average Success Rate Comparison', fontsize=16)\n",
    "plt.ylabel('Success Rate (log scale)', fontsize=14)\n",
    "plt.xlabel('Agent Type', fontsize=14)\n",
    "plt.tight_layout()\n",
    "plt.show()\n",
    "plt.savefig('success_rate_comparison.png', dpi=300)\n"
   ],
   "cell_type": "code",
   "metadata": {
    "colab": {
     "base_uri": "https://localhost:8080/",
     "height": 503
    },
    "id": "_nrySZPGZOqV",
    "outputId": "9ab3099a-14b9-41ba-8f9e-4dbc4a49d73d"
   },
   "outputs": [],
   "execution_count": null
  },
  {
   "cell_type": "code",
   "source": [
    "import matplotlib.pyplot as plt\n",
    "\n",
    "# Data for the two approaches (replace these with your actual values)\n",
    "approach_types = ['sparse', 'step_cost']\n",
    "# calculate the average success rate for each approach\n",
    "success_rates = \n",
    "\n"
   ],
   "metadata": {
    "colab": {
     "base_uri": "https://localhost:8080/",
     "height": 689
    },
    "id": "U-LzvHftc_-i",
    "outputId": "a47f8379-745f-4ada-e652-7b1f4c790257"
   },
   "outputs": [],
   "execution_count": null
  }
 ]
}
